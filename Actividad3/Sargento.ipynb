{
 "cells": [
  {
   "cell_type": "code",
   "execution_count": 1,
   "metadata": {},
   "outputs": [
    {
     "data": {
      "text/plain": [
       "'3.2.1rc1'"
      ]
     },
     "execution_count": 1,
     "metadata": {},
     "output_type": "execute_result"
    }
   ],
   "source": [
    "import plotly\n",
    "plotly.__version__"
   ]
  },
  {
   "cell_type": "code",
   "execution_count": 2,
   "metadata": {},
   "outputs": [],
   "source": [
    "import plotly.plotly as py\n",
    "import plotly.graph_objs as go\n",
    "import plotly.figure_factory as FF\n",
    "\n",
    "import numpy as np\n",
    "import pandas as pd\n",
    "\n",
    "\n",
    "\n",
    "\n",
    "import seaborn as sns\n",
    "%matplotlib inline"
   ]
  },
  {
   "cell_type": "code",
   "execution_count": 3,
   "metadata": {},
   "outputs": [],
   "source": [
    "dfc = pd.read_csv(\"canal.csv\", sep=',', skiprows=2)\n",
    "dfc.columns = ['No','DD/MM/YY','AbsPresKpa','Temp°C','WaterLevelMeters']\n",
    "dfcpt2 = pd.read_csv(\"canal2.csv\", sep=',', skiprows=2)\n",
    "dfcpt2.columns = ['No','DD/MM/YY','AbsPresKpa','Temp°C','WaterLevelMeters']\n",
    "\n",
    "dfe = pd.read_csv(\"estacion.csv\", sep=',', skiprows=2)\n",
    "dfe.columns = ['No','DD/MM/YY','AbsPresKpa','Temp°C','WaterLevelMeters']\n",
    "dfept2 = pd.read_csv(\"estacion2.csv\", sep=',', skiprows=2)\n",
    "dfept2.columns = ['No','DD/MM/YY','AbsPresKpa','Temp°C','WaterLevelMeters']\n",
    "\n",
    "dfs = pd.read_csv(\"salinidad.csv\", sep=',', skiprows=2)\n",
    "dfs.columns = ['No','DD/MM/YY','CondLow_S/cm', 'CondHigh_S/cm', 'Temp°C','SpecificCond_S/cm','Salinity_ppt']\n",
    "\n",
    "dfc7 = dfc[(dfc['DD/MM/YY'] > '08/19/2018 23:50:39') & (dfc['DD/MM/YY'] <= '08/26/2018 23:46:50')]\n",
    "dfc1 = dfc[(dfc['DD/MM/YY'] > '08/24/2018 23:58:39') & (dfc['DD/MM/YY'] <= '08/25/2018 23:45:14')]\n",
    "dfe7 = dfe[(dfe['DD/MM/YY'] > '08/19/2018 23:45:00') & (dfe['DD/MM/YY'] <= '08/26/2018 23:45:00')]\n",
    "dfe1 = dfe[(dfe['DD/MM/YY'] > '08/24/2018 23:45:00') & (dfe['DD/MM/YY'] <= '08/25/2018 23:45:00')]\n",
    "dfs7 = dfs[(dfs['DD/MM/YY'] > '08/19/2018 23:45:00') & (dfs['DD/MM/YY'] <= '08/26/2018 23:45:00')]\n",
    "dfs1 = dfs[(dfs['DD/MM/YY'] > '08/24/2018 23:45:00') & (dfs['DD/MM/YY'] <= '08/25/2018 23:45:00')]"
   ]
  },
  {
   "cell_type": "code",
   "execution_count": 5,
   "metadata": {},
   "outputs": [
    {
     "data": {
      "text/html": [
       "<iframe id=\"igraph\" scrolling=\"no\" style=\"border:none;\" seamless=\"seamless\" src=\"https://plot.ly/~CorralGio/4.embed\" height=\"525px\" width=\"100%\"></iframe>"
      ],
      "text/plain": [
       "<plotly.tools.PlotlyDisplay object>"
      ]
     },
     "execution_count": 5,
     "metadata": {},
     "output_type": "execute_result"
    }
   ],
   "source": [
    "trace1 = go.Scatter(\n",
    "                    x=dfe7['DD/MM/YY'], y=dfc7['WaterLevelMeters'], \n",
    "                    mode='lines', name='Canal' \n",
    "                   )\n",
    "trace2 = go.Scatter(\n",
    "                    x=dfe7['DD/MM/YY'], y=dfe7['WaterLevelMeters'], \n",
    "                    mode='lines', name='Estacion' \n",
    "                   )\n",
    "layout = go.Layout(title='Nivel del mar en el canal y la estacion 08/20/18 - 08/26/18 ',\n",
    "                   plot_bgcolor='rgb(230, 230,230)')\n",
    "\n",
    "fig = go.Figure(data=[trace1,trace2], layout=layout)\n",
    "py.iplot(fig, filename='simple-plot-from-csv')\n"
   ]
  },
  {
   "cell_type": "code",
   "execution_count": 6,
   "metadata": {},
   "outputs": [
    {
     "data": {
      "text/html": [
       "<iframe id=\"igraph\" scrolling=\"no\" style=\"border:none;\" seamless=\"seamless\" src=\"https://plot.ly/~CorralGio/4.embed\" height=\"525px\" width=\"100%\"></iframe>"
      ],
      "text/plain": [
       "<plotly.tools.PlotlyDisplay object>"
      ]
     },
     "execution_count": 6,
     "metadata": {},
     "output_type": "execute_result"
    }
   ],
   "source": [
    "trace1 = go.Scatter(\n",
    "                    x=dfe1['DD/MM/YY'], y=dfc1['WaterLevelMeters'], \n",
    "                    mode='lines', name='Canal' \n",
    "                   )\n",
    "                   \n",
    "trace2 = go.Scatter(\n",
    "                    x=dfe1['DD/MM/YY'], y=dfe1['WaterLevelMeters'], \n",
    "                    mode='lines', name='Estacion' \n",
    "                   )\n",
    "layout = go.Layout(title='Nivel del mar en el canal y la estacion 08/25/18 ',\n",
    "                   plot_bgcolor='rgb(230, 230,230)')\n",
    "\n",
    "fig = go.Figure(data=[trace1, trace2], layout=layout)\n",
    "py.iplot(fig, filename='simple-plot-from-csv')\n"
   ]
  },
  {
   "cell_type": "code",
   "execution_count": 7,
   "metadata": {},
   "outputs": [
    {
     "data": {
      "text/html": [
       "<iframe id=\"igraph\" scrolling=\"no\" style=\"border:none;\" seamless=\"seamless\" src=\"https://plot.ly/~CorralGio/4.embed\" height=\"525px\" width=\"100%\"></iframe>"
      ],
      "text/plain": [
       "<plotly.tools.PlotlyDisplay object>"
      ]
     },
     "execution_count": 7,
     "metadata": {},
     "output_type": "execute_result"
    }
   ],
   "source": [
    "trace1 = go.Scatter(\n",
    "    x=dfe7['DD/MM/YY'],\n",
    "    y=dfe7['WaterLevelMeters'],\n",
    "    name='Nivel del mar'\n",
    ")\n",
    "trace2 = go.Scatter(\n",
    "    x=dfe7['DD/MM/YY'],\n",
    "    y=dfs7['Salinity_ppt'],\n",
    "    name='Salinidad',\n",
    "    yaxis='y2'\n",
    ")\n",
    "data = [trace1, trace2]\n",
    "layout = go.Layout(\n",
    "    title='Salinidad y Nivel del mar en la estacion 08/20/18 - 08/26/18 ',\n",
    "    yaxis=dict(\n",
    "        title='Nivel del mar Metros'\n",
    "    ),\n",
    "    yaxis2=dict(\n",
    "        title='Salinidad ppt',\n",
    "        titlefont=dict(\n",
    "            color='rgb(148, 103, 189)'\n",
    "        ),\n",
    "        tickfont=dict(\n",
    "            color='rgb(148, 103, 189)'\n",
    "        ),\n",
    "        overlaying='y',\n",
    "        side='right'\n",
    "    )\n",
    ")\n",
    "fig = go.Figure(data=data, layout=layout)\n",
    "py.iplot(fig, filename='simple-plot-from-csv')"
   ]
  },
  {
   "cell_type": "code",
   "execution_count": 8,
   "metadata": {},
   "outputs": [
    {
     "data": {
      "text/html": [
       "<iframe id=\"igraph\" scrolling=\"no\" style=\"border:none;\" seamless=\"seamless\" src=\"https://plot.ly/~CorralGio/4.embed\" height=\"525px\" width=\"100%\"></iframe>"
      ],
      "text/plain": [
       "<plotly.tools.PlotlyDisplay object>"
      ]
     },
     "execution_count": 8,
     "metadata": {},
     "output_type": "execute_result"
    }
   ],
   "source": [
    "trace1 = go.Scatter(\n",
    "    x=dfe1['DD/MM/YY'],\n",
    "    y=dfe1['WaterLevelMeters'],\n",
    "    name='Nivel del mar'\n",
    ")\n",
    "trace2 = go.Scatter(\n",
    "    x=dfe1['DD/MM/YY'],\n",
    "    y=dfs1['Salinity_ppt'],\n",
    "    name='Salinidad',\n",
    "    yaxis='y2'\n",
    ")\n",
    "data = [trace1, trace2]\n",
    "layout = go.Layout(\n",
    "    title='Salinidad y Nivel del mar en la estacion 08/25/18 ',\n",
    "    yaxis=dict(\n",
    "        title='Nivel del mar Metros'\n",
    "    ),\n",
    "    yaxis2=dict(\n",
    "        title='Salinidad ppt',\n",
    "        titlefont=dict(\n",
    "            color='rgb(148, 103, 189)'\n",
    "        ),\n",
    "        tickfont=dict(\n",
    "            color='rgb(148, 103, 189)'\n",
    "        ),\n",
    "        overlaying='y',\n",
    "        side='right'\n",
    "    )\n",
    ")\n",
    "fig = go.Figure(data=data, layout=layout)\n",
    "py.iplot(fig, filename='simple-plot-from-csv')"
   ]
  },
  {
   "cell_type": "code",
   "execution_count": null,
   "metadata": {},
   "outputs": [],
   "source": []
  },
  {
   "cell_type": "code",
   "execution_count": 9,
   "metadata": {},
   "outputs": [
    {
     "data": {
      "text/html": [
       "<iframe id=\"igraph\" scrolling=\"no\" style=\"border:none;\" seamless=\"seamless\" src=\"https://plot.ly/~CorralGio/4.embed\" height=\"525px\" width=\"100%\"></iframe>"
      ],
      "text/plain": [
       "<plotly.tools.PlotlyDisplay object>"
      ]
     },
     "execution_count": 9,
     "metadata": {},
     "output_type": "execute_result"
    }
   ],
   "source": [
    "\n",
    "\n",
    "trace1 = go.Scatter(\n",
    "    x=dfe7['DD/MM/YY'],\n",
    "    y=dfe7['WaterLevelMeters'],\n",
    "    name='Nivel del mar'\n",
    ")\n",
    "trace2 = go.Scatter(\n",
    "    x=dfe7['DD/MM/YY'],\n",
    "    y=dfe7['Temp°C'],\n",
    "    name='Temperatura',\n",
    "    yaxis='y2'\n",
    ")\n",
    "data = [trace1, trace2]\n",
    "layout = go.Layout(\n",
    "    title='Temperatura y Nivel del mar en la estacion 08/20/18 - 08/26/18 ',\n",
    "    yaxis=dict(\n",
    "        title='Nivel del mar Metros'\n",
    "    ),\n",
    "    yaxis2=dict(\n",
    "        title='Temperatura °C',\n",
    "        titlefont=dict(\n",
    "            color='rgb(148, 103, 189)'\n",
    "        ),\n",
    "        tickfont=dict(\n",
    "            color='rgb(148, 103, 189)'\n",
    "        ),\n",
    "        overlaying='y',\n",
    "        side='right'\n",
    "    )\n",
    ")\n",
    "fig = go.Figure(data=data, layout=layout)\n",
    "py.iplot(fig, filename='simple-plot-from-csv')"
   ]
  },
  {
   "cell_type": "code",
   "execution_count": 10,
   "metadata": {},
   "outputs": [
    {
     "data": {
      "text/html": [
       "<iframe id=\"igraph\" scrolling=\"no\" style=\"border:none;\" seamless=\"seamless\" src=\"https://plot.ly/~CorralGio/4.embed\" height=\"525px\" width=\"100%\"></iframe>"
      ],
      "text/plain": [
       "<plotly.tools.PlotlyDisplay object>"
      ]
     },
     "execution_count": 10,
     "metadata": {},
     "output_type": "execute_result"
    }
   ],
   "source": [
    "\n",
    "\n",
    "trace1 = go.Scatter(\n",
    "    x=dfe1['DD/MM/YY'],\n",
    "    y=dfe1['WaterLevelMeters'],\n",
    "    name='Nivel del mar'\n",
    ")\n",
    "trace2 = go.Scatter(\n",
    "    x=dfe1['DD/MM/YY'],\n",
    "    y=dfe1['Temp°C'],\n",
    "    name='Temperatura',\n",
    "    yaxis='y2'\n",
    ")\n",
    "data = [trace1, trace2]\n",
    "layout = go.Layout(\n",
    "    title='Temperatura y Nivel del mar en la estacion 08/25/18 ',\n",
    "    yaxis=dict(\n",
    "        title='Nivel del mar Metros'\n",
    "    ),\n",
    "    yaxis2=dict(\n",
    "        title='Temperatura °C',\n",
    "        titlefont=dict(\n",
    "            color='rgb(148, 103, 189)'\n",
    "        ),\n",
    "        tickfont=dict(\n",
    "            color='rgb(148, 103, 189)'\n",
    "        ),\n",
    "        overlaying='y',\n",
    "        side='right'\n",
    "    )\n",
    ")\n",
    "fig = go.Figure(data=data, layout=layout)\n",
    "py.iplot(fig, filename='simple-plot-from-csv')"
   ]
  },
  {
   "cell_type": "code",
   "execution_count": 11,
   "metadata": {},
   "outputs": [
    {
     "data": {
      "text/html": [
       "<iframe id=\"igraph\" scrolling=\"no\" style=\"border:none;\" seamless=\"seamless\" src=\"https://plot.ly/~CorralGio/4.embed\" height=\"525px\" width=\"100%\"></iframe>"
      ],
      "text/plain": [
       "<plotly.tools.PlotlyDisplay object>"
      ]
     },
     "execution_count": 11,
     "metadata": {},
     "output_type": "execute_result"
    }
   ],
   "source": [
    "\n",
    "\n",
    "trace1 = go.Scatter(\n",
    "    x=dfe7['DD/MM/YY'],\n",
    "    y=dfc7['WaterLevelMeters'],\n",
    "    name='Nivel del mar'\n",
    ")\n",
    "trace2 = go.Scatter(\n",
    "    x=dfe7['DD/MM/YY'],\n",
    "    y=dfc7['Temp°C'],\n",
    "    name='Temperatura',\n",
    "    yaxis='y2'\n",
    ")\n",
    "data = [trace1, trace2]\n",
    "layout = go.Layout(\n",
    "    title='Temperatura y Nivel del mar en el canal 08/20/18 - 08/26/18 ',\n",
    "    yaxis=dict(\n",
    "        title='Nivel del mar Metros'\n",
    "    ),\n",
    "    yaxis2=dict(\n",
    "        title='Temperatura °C',\n",
    "        titlefont=dict(\n",
    "            color='rgb(148, 103, 189)'\n",
    "        ),\n",
    "        tickfont=dict(\n",
    "            color='rgb(148, 103, 189)'\n",
    "        ),\n",
    "        overlaying='y',\n",
    "        side='right'\n",
    "    )\n",
    ")\n",
    "fig = go.Figure(data=data, layout=layout)\n",
    "py.iplot(fig, filename='simple-plot-from-csv')"
   ]
  },
  {
   "cell_type": "code",
   "execution_count": 12,
   "metadata": {},
   "outputs": [
    {
     "data": {
      "text/html": [
       "<iframe id=\"igraph\" scrolling=\"no\" style=\"border:none;\" seamless=\"seamless\" src=\"https://plot.ly/~CorralGio/4.embed\" height=\"525px\" width=\"100%\"></iframe>"
      ],
      "text/plain": [
       "<plotly.tools.PlotlyDisplay object>"
      ]
     },
     "execution_count": 12,
     "metadata": {},
     "output_type": "execute_result"
    }
   ],
   "source": [
    "\n",
    "\n",
    "trace1 = go.Scatter(\n",
    "    x=dfe1['DD/MM/YY'],\n",
    "    y=dfc1['WaterLevelMeters'],\n",
    "    name='Nivel del mar'\n",
    ")\n",
    "trace2 = go.Scatter(\n",
    "    x=dfe1['DD/MM/YY'],\n",
    "    y=dfc1['Temp°C'],\n",
    "    name='Temperatura',\n",
    "    yaxis='y2'\n",
    ")\n",
    "data = [trace1, trace2]\n",
    "layout = go.Layout(\n",
    "    title='Temperatura y Nivel del mar en la canal 08/25/18 ',\n",
    "    yaxis=dict(\n",
    "        title='Nivel del mar Metros'\n",
    "    ),\n",
    "    yaxis2=dict(\n",
    "        title='Temperatura °C',\n",
    "        titlefont=dict(\n",
    "            color='rgb(148, 103, 189)'\n",
    "        ),\n",
    "        tickfont=dict(\n",
    "            color='rgb(148, 103, 189)'\n",
    "        ),\n",
    "        overlaying='y',\n",
    "        side='right'\n",
    "    )\n",
    ")\n",
    "fig = go.Figure(data=data, layout=layout)\n",
    "py.iplot(fig, filename='simple-plot-from-csv')"
   ]
  },
  {
   "cell_type": "code",
   "execution_count": 13,
   "metadata": {},
   "outputs": [],
   "source": [
    "result = pd.concat([dfe1, dfs1], axis=1).corr()\n",
    "result = result.drop('CondLow_S/cm', 1)\n",
    "result = result.drop('CondLow_S/cm', 0)\n",
    "result = result.drop('CondHigh_S/cm', 1)\n",
    "result = result.drop('CondHigh_S/cm', 0)\n",
    "result = result.drop('No', 0)\n",
    "result = result.drop('No', 1)"
   ]
  },
  {
   "cell_type": "raw",
   "metadata": {},
   "source": [
    "result"
   ]
  },
  {
   "cell_type": "code",
   "execution_count": 14,
   "metadata": {},
   "outputs": [
    {
     "data": {
      "text/html": [
       "<div>\n",
       "<style scoped>\n",
       "    .dataframe tbody tr th:only-of-type {\n",
       "        vertical-align: middle;\n",
       "    }\n",
       "\n",
       "    .dataframe tbody tr th {\n",
       "        vertical-align: top;\n",
       "    }\n",
       "\n",
       "    .dataframe thead th {\n",
       "        text-align: right;\n",
       "    }\n",
       "</style>\n",
       "<table border=\"1\" class=\"dataframe\">\n",
       "  <thead>\n",
       "    <tr style=\"text-align: right;\">\n",
       "      <th></th>\n",
       "      <th>AbsPresKpa</th>\n",
       "      <th>Temp°C</th>\n",
       "      <th>WaterLevelMeters</th>\n",
       "      <th>Temp°C</th>\n",
       "      <th>SpecificCond_S/cm</th>\n",
       "      <th>Salinity_ppt</th>\n",
       "    </tr>\n",
       "  </thead>\n",
       "  <tbody>\n",
       "    <tr>\n",
       "      <th>AbsPresKpa</th>\n",
       "      <td>1.000000</td>\n",
       "      <td>0.499190</td>\n",
       "      <td>0.999999</td>\n",
       "      <td>0.835213</td>\n",
       "      <td>-0.834792</td>\n",
       "      <td>-0.834750</td>\n",
       "    </tr>\n",
       "    <tr>\n",
       "      <th>Temp°C</th>\n",
       "      <td>0.499190</td>\n",
       "      <td>1.000000</td>\n",
       "      <td>0.499218</td>\n",
       "      <td>0.541818</td>\n",
       "      <td>-0.541607</td>\n",
       "      <td>-0.541576</td>\n",
       "    </tr>\n",
       "    <tr>\n",
       "      <th>WaterLevelMeters</th>\n",
       "      <td>0.999999</td>\n",
       "      <td>0.499218</td>\n",
       "      <td>1.000000</td>\n",
       "      <td>0.835290</td>\n",
       "      <td>-0.834868</td>\n",
       "      <td>-0.834827</td>\n",
       "    </tr>\n",
       "    <tr>\n",
       "      <th>Temp°C</th>\n",
       "      <td>0.835213</td>\n",
       "      <td>0.541818</td>\n",
       "      <td>0.835290</td>\n",
       "      <td>1.000000</td>\n",
       "      <td>-0.999999</td>\n",
       "      <td>-0.999999</td>\n",
       "    </tr>\n",
       "    <tr>\n",
       "      <th>SpecificCond_S/cm</th>\n",
       "      <td>-0.834792</td>\n",
       "      <td>-0.541607</td>\n",
       "      <td>-0.834868</td>\n",
       "      <td>-0.999999</td>\n",
       "      <td>1.000000</td>\n",
       "      <td>1.000000</td>\n",
       "    </tr>\n",
       "    <tr>\n",
       "      <th>Salinity_ppt</th>\n",
       "      <td>-0.834750</td>\n",
       "      <td>-0.541576</td>\n",
       "      <td>-0.834827</td>\n",
       "      <td>-0.999999</td>\n",
       "      <td>1.000000</td>\n",
       "      <td>1.000000</td>\n",
       "    </tr>\n",
       "  </tbody>\n",
       "</table>\n",
       "</div>"
      ],
      "text/plain": [
       "                   AbsPresKpa    Temp°C  WaterLevelMeters    Temp°C  \\\n",
       "AbsPresKpa           1.000000  0.499190          0.999999  0.835213   \n",
       "Temp°C               0.499190  1.000000          0.499218  0.541818   \n",
       "WaterLevelMeters     0.999999  0.499218          1.000000  0.835290   \n",
       "Temp°C               0.835213  0.541818          0.835290  1.000000   \n",
       "SpecificCond_S/cm   -0.834792 -0.541607         -0.834868 -0.999999   \n",
       "Salinity_ppt        -0.834750 -0.541576         -0.834827 -0.999999   \n",
       "\n",
       "                   SpecificCond_S/cm  Salinity_ppt  \n",
       "AbsPresKpa                 -0.834792     -0.834750  \n",
       "Temp°C                     -0.541607     -0.541576  \n",
       "WaterLevelMeters           -0.834868     -0.834827  \n",
       "Temp°C                     -0.999999     -0.999999  \n",
       "SpecificCond_S/cm           1.000000      1.000000  \n",
       "Salinity_ppt                1.000000      1.000000  "
      ]
     },
     "execution_count": 14,
     "metadata": {},
     "output_type": "execute_result"
    }
   ],
   "source": [
    "result"
   ]
  },
  {
   "cell_type": "code",
   "execution_count": 15,
   "metadata": {},
   "outputs": [
    {
     "data": {
      "text/plain": [
       "<matplotlib.axes._subplots.AxesSubplot at 0x17482ef34a8>"
      ]
     },
     "execution_count": 15,
     "metadata": {},
     "output_type": "execute_result"
    },
    {
     "data": {
      "image/png": "[encoded data removed]",
      "text/plain": [
       "<matplotlib.figure.Figure at 0x174828e8be0>"
      ]
     },
     "metadata": {},
     "output_type": "display_data"
    }
   ],
   "source": [
    "\n",
    "sns.heatmap( result, \n",
    "        xticklabels=result.columns,\n",
    "        yticklabels=result.columns)"
   ]
  },
  {
   "cell_type": "code",
   "execution_count": 16,
   "metadata": {},
   "outputs": [],
   "source": [
    "result1 = pd.concat([dfe7, dfs7], axis=1).corr()\n",
    "result1 = result1.drop('CondLow_S/cm', 1)\n",
    "result1 = result1.drop('CondLow_S/cm', 0)\n",
    "result1 = result1.drop('CondHigh_S/cm', 1)\n",
    "result1 = result1.drop('CondHigh_S/cm', 0)\n",
    "result1 = result1.drop('No', 0)\n",
    "result1 = result1.drop('No', 1)"
   ]
  },
  {
   "cell_type": "code",
   "execution_count": 18,
   "metadata": {},
   "outputs": [
    {
     "data": {
      "text/html": [
       "<div>\n",
       "<style scoped>\n",
       "    .dataframe tbody tr th:only-of-type {\n",
       "        vertical-align: middle;\n",
       "    }\n",
       "\n",
       "    .dataframe tbody tr th {\n",
       "        vertical-align: top;\n",
       "    }\n",
       "\n",
       "    .dataframe thead th {\n",
       "        text-align: right;\n",
       "    }\n",
       "</style>\n",
       "<table border=\"1\" class=\"dataframe\">\n",
       "  <thead>\n",
       "    <tr style=\"text-align: right;\">\n",
       "      <th></th>\n",
       "      <th>AbsPresKpa</th>\n",
       "      <th>Temp°C</th>\n",
       "      <th>WaterLevelMeters</th>\n",
       "      <th>Temp°C</th>\n",
       "      <th>SpecificCond_S/cm</th>\n",
       "      <th>Salinity_ppt</th>\n",
       "    </tr>\n",
       "  </thead>\n",
       "  <tbody>\n",
       "    <tr>\n",
       "      <th>AbsPresKpa</th>\n",
       "      <td>1.000000</td>\n",
       "      <td>0.191743</td>\n",
       "      <td>0.999999</td>\n",
       "      <td>0.328808</td>\n",
       "      <td>-0.328262</td>\n",
       "      <td>-0.328237</td>\n",
       "    </tr>\n",
       "    <tr>\n",
       "      <th>Temp°C</th>\n",
       "      <td>0.191743</td>\n",
       "      <td>1.000000</td>\n",
       "      <td>0.191674</td>\n",
       "      <td>0.711678</td>\n",
       "      <td>-0.711298</td>\n",
       "      <td>-0.711268</td>\n",
       "    </tr>\n",
       "    <tr>\n",
       "      <th>WaterLevelMeters</th>\n",
       "      <td>0.999999</td>\n",
       "      <td>0.191674</td>\n",
       "      <td>1.000000</td>\n",
       "      <td>0.328837</td>\n",
       "      <td>-0.328291</td>\n",
       "      <td>-0.328266</td>\n",
       "    </tr>\n",
       "    <tr>\n",
       "      <th>Temp°C</th>\n",
       "      <td>0.328808</td>\n",
       "      <td>0.711678</td>\n",
       "      <td>0.328837</td>\n",
       "      <td>1.000000</td>\n",
       "      <td>-0.999996</td>\n",
       "      <td>-0.999995</td>\n",
       "    </tr>\n",
       "    <tr>\n",
       "      <th>SpecificCond_S/cm</th>\n",
       "      <td>-0.328262</td>\n",
       "      <td>-0.711298</td>\n",
       "      <td>-0.328291</td>\n",
       "      <td>-0.999996</td>\n",
       "      <td>1.000000</td>\n",
       "      <td>1.000000</td>\n",
       "    </tr>\n",
       "    <tr>\n",
       "      <th>Salinity_ppt</th>\n",
       "      <td>-0.328237</td>\n",
       "      <td>-0.711268</td>\n",
       "      <td>-0.328266</td>\n",
       "      <td>-0.999995</td>\n",
       "      <td>1.000000</td>\n",
       "      <td>1.000000</td>\n",
       "    </tr>\n",
       "  </tbody>\n",
       "</table>\n",
       "</div>"
      ],
      "text/plain": [
       "                   AbsPresKpa    Temp°C  WaterLevelMeters    Temp°C  \\\n",
       "AbsPresKpa           1.000000  0.191743          0.999999  0.328808   \n",
       "Temp°C               0.191743  1.000000          0.191674  0.711678   \n",
       "WaterLevelMeters     0.999999  0.191674          1.000000  0.328837   \n",
       "Temp°C               0.328808  0.711678          0.328837  1.000000   \n",
       "SpecificCond_S/cm   -0.328262 -0.711298         -0.328291 -0.999996   \n",
       "Salinity_ppt        -0.328237 -0.711268         -0.328266 -0.999995   \n",
       "\n",
       "                   SpecificCond_S/cm  Salinity_ppt  \n",
       "AbsPresKpa                 -0.328262     -0.328237  \n",
       "Temp°C                     -0.711298     -0.711268  \n",
       "WaterLevelMeters           -0.328291     -0.328266  \n",
       "Temp°C                     -0.999996     -0.999995  \n",
       "SpecificCond_S/cm           1.000000      1.000000  \n",
       "Salinity_ppt                1.000000      1.000000  "
      ]
     },
     "execution_count": 18,
     "metadata": {},
     "output_type": "execute_result"
    }
   ],
   "source": [
    "result1"
   ]
  },
  {
   "cell_type": "code",
   "execution_count": 20,
   "metadata": {},
   "outputs": [
    {
     "data": {
      "text/plain": [
       "<matplotlib.axes._subplots.AxesSubplot at 0x17482dfa438>"
      ]
     },
     "execution_count": 20,
     "metadata": {},
     "output_type": "execute_result"
    },
    {
     "data": {
      "image/png": "[encoded data removed]",
      "text/plain": [
       "<matplotlib.figure.Figure at 0x17482f0bbe0>"
      ]
     },
     "metadata": {},
     "output_type": "display_data"
    }
   ],
   "source": [
    "\n",
    "sns.heatmap( result1, \n",
    "        xticklabels=result1.columns,\n",
    "        yticklabels=result1.columns)"
   ]
  }
 ],
 "metadata": {
  "kernelspec": {
   "display_name": "Python 3",
   "language": "python",
   "name": "python3"
  },
  "language_info": {
   "codemirror_mode": {
    "name": "ipython",
    "version": 3
   },
   "file_extension": ".py",
   "mimetype": "text/x-python",
   "name": "python",
   "nbconvert_exporter": "python",
   "pygments_lexer": "ipython3",
   "version": "3.6.4"
  }
 },
 "nbformat": 4,
 "nbformat_minor": 2
}
